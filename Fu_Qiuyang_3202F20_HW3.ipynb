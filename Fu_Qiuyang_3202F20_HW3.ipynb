{
 "cells": [
  {
   "cell_type": "markdown",
   "metadata": {
    "id": "D4B-6tRBOrYK"
   },
   "source": [
    "## <a id='top'></a>\n",
    "\n",
    "# CSCI 3202, Fall 2020\n",
    "# Assignment 2\n",
    "# Due: Monday 16 November 2020 by 11:59 PM\n",
    "\n",
    "<br> \n",
    "\n",
    "### Your name: Qiuyang Fu\n",
    "\n",
    "<br> "
   ]
  },
  {
   "cell_type": "code",
   "execution_count": 1,
   "metadata": {
    "id": "JxWmjhcrOrYT"
   },
   "outputs": [],
   "source": [
    "import numpy as np\n",
    "import matplotlib.pyplot as plt\n",
    "from scipy import stats\n",
    "import scipy.integrate as integrate\n",
    "import unittest\n"
   ]
  },
  {
   "cell_type": "markdown",
   "metadata": {
    "id": "VK3zWlBoOrYc"
   },
   "source": [
    "\n",
    "## Problem 1:  EVIU and EVPI\n",
    "\n",
    "Suppose we have an overwhelming sense of exam déjà vu, and we're going to catch the Buff Bus again.  We want to decide at what time $d$ to go wait for it.  We decide to use the the linear loss function \n",
    "\n",
    "$$L(d,x)=\\begin{cases} \n",
    "\t2(x-d) & x\\geq d \\\\\n",
    "\t4(d-x) & x <d\n",
    "    \t\\end{cases}$$.\n",
    "        \n",
    "As in the exam, we model the Buff Bus arrival times as an exponential random variable $X$ that arrives on average once per hour, so they have probability density function of $f(x)=e^{-x}$ for $x>0$ (note: this has mean of $E_X[x]=1$).\n",
    "\n",
    "The result from the exam was that the *expected loss* of the decision $d$ was:\n",
    "$$E_X[L(d,x)] = \\int_0^d 4(d-x)e^{-x}\\, dx + \\int_d^\\infty 2(x-d)e^{-x}\\, dx$$\n",
    "\n",
    "...we maybe tried to avoid doing that integral and reasoned through it, because often such an integral is messy and may require numerical methods.\n",
    "\n",
    "\n",
    "### (1a)  A Loss function:\n",
    "\n",
    "Create a `ExpectedLoss` object or function that takes as input 3 arguments: \n",
    "    - a decision $d$\n",
    "    - a loss function $L(d,x)$\n",
    "    - a probability density $f(x)$\n",
    "\n",
    "and returns the value of $$E_X[L(d,x)]=\\int_{-\\infty}^\\infty L(d,x) f(x) \\, dx$$.\n",
    "\n",
    "Inside your function, you can and should use the scipy.integrate function with documentation: \n",
    "https://docs.scipy.org/doc/scipy/reference/tutorial/integrate.html.\n",
    "\n"
   ]
  },
  {
   "cell_type": "code",
   "execution_count": 2,
   "metadata": {
    "id": "FRnLmZ8_OrYe"
   },
   "outputs": [],
   "source": [
    "def loss_fn(x, d):\n",
    "    if x<d:\n",
    "      return 4*(d-x)\n",
    "    else:\n",
    "      return 2*(x-d)\n",
    "\n",
    "def fx(x):\n",
    "  return np.exp(-x)\n",
    "\n",
    "def final_loss(x, d, loss_fn):\n",
    "  return loss_fn(x, d)*fx(x)\n",
    "\n",
    "def ExpectedLoss(d, loss_fn, fx):\n",
    "    return integrate.quad(final_loss, 0, np.inf, args=(d, loss_fn))[0]"
   ]
  },
  {
   "cell_type": "markdown",
   "metadata": {
    "id": "1dfvCc16OrYk"
   },
   "source": [
    "## (1b) A quick check:\n",
    "Double check that your integrate code is working well on the infinite support of the exponential random variable.  Check that you in fact get $$E[X]=\\int_0^\\infty e^{-x} \\, dx=1$$ from your usage of `integrate` above."
   ]
  },
  {
   "cell_type": "code",
   "execution_count": 3,
   "metadata": {
    "colab": {
     "base_uri": "https://localhost:8080/"
    },
    "id": "y95IQp87OrYn",
    "outputId": "9e8e054e-24e9-4de8-c320-1838df8b16f7"
   },
   "outputs": [
    {
     "data": {
      "text/plain": [
       "1.0000000000000002"
      ]
     },
     "execution_count": 3,
     "metadata": {
      "tags": []
     },
     "output_type": "execute_result"
    }
   ],
   "source": [
    "# integrate.quad(lambda x:np.exp(-x),0,np.inf)[0]\n",
    "def loss_fn1(x,d):\n",
    "  return 1\n",
    "ExpectedLoss(0,loss_fn1, fx)"
   ]
  },
  {
   "cell_type": "markdown",
   "metadata": {
    "id": "scQ0ThKTOrYs"
   },
   "source": [
    "## (1c) Scoring Decisions:\n",
    "Our goal is typically to compare the losses of 3 decision types:\n",
    " - the decision made \"ignoring uncertainty,\" using $d=E[X]$\n",
    " - the decision made with \"perfect information\", using $d=x$\n",
    " - the decision made with uncertainty to minimize loss, the Bayes' decision.\n",
    " \n",
    "1. Use your function in (1a) to compute the expected loss when ignoring uncertainty.\n",
    "\n",
    "2. Use your function in (1a) or reason to compute the expected loss with perfect information.\n",
    "\n",
    "3. Use your function in (1a) to *plot* the expected loss for a fine grid (`linspace`) of $d$ values from 0 to 10.  Given this plot, visually estimate the optimal decision $d$ and it's expected loss."
   ]
  },
  {
   "cell_type": "code",
   "execution_count": 4,
   "metadata": {
    "colab": {
     "base_uri": "https://localhost:8080/",
     "height": 298
    },
    "id": "YXYeKS15OrYu",
    "outputId": "d71cc62d-e514-4e7d-a9af-44ef1574ac8a"
   },
   "outputs": [
    {
     "data": {
      "text/plain": [
       "<matplotlib.legend.Legend at 0x7fe43e6eb048>"
      ]
     },
     "execution_count": 4,
     "metadata": {
      "tags": []
     },
     "output_type": "execute_result"
    },
    {
     "data": {
      "image/png": "[encoded data removed]",
      "text/plain": [
       "<Figure size 432x288 with 1 Axes>"
      ]
     },
     "metadata": {
      "needs_background": "light",
      "tags": []
     },
     "output_type": "display_data"
    }
   ],
   "source": [
    "l1 = []\n",
    "l2 = []\n",
    "l3 = []\n",
    "\n",
    "for d in np.arange(0,10,1):\n",
    "  Loss1_Ignoring_uncertainty= ExpectedLoss(5, loss_fn, fx)\n",
    "  l1.append(Loss1_Ignoring_uncertainty)\n",
    "  Loss2_perfect_info = ExpectedLoss(d, loss_fn, fx)\n",
    "  l2.append(Loss2_perfect_info)\n",
    "  Loss3_min_loss = ExpectedLoss(2.5, loss_fn, fx)\n",
    "  l3.append(Loss3_min_loss)\n",
    "\n",
    "# Note: Change the functions 'loss_fn' & 'fx' defined in the starting cell for customized input\n",
    "\n",
    "dx= [i for i in range(10)]\n",
    "plt.plot(dx, l1, label='Loss1_Ignoring_uncertainty')\n",
    "plt.plot(dx, l2, label='Loss2_perfect_info')\n",
    "plt.plot(dx, l3, label='Loss3_min_loss')\n",
    "plt.title('Loss v/s d')\n",
    "plt.legend()"
   ]
  },
  {
   "cell_type": "markdown",
   "metadata": {
    "id": "fw3l6E6-OrYz"
   },
   "source": [
    "## (1d) Optimizing Decisions:\n",
    "Since the Bayes' decision should be the minimum of the function in (1a), we can use another numeric method in Python to find it exactly!  Check out `scipy.optimize` https://docs.scipy.org/doc/scipy/reference/tutorial/optimize.html and use it to find the Bayes' decision.\n",
    "\n",
    "For convenience, you may restructure your code in (1a) to get the loss function while only $d$ as taken as an input."
   ]
  },
  {
   "cell_type": "code",
   "execution_count": 5,
   "metadata": {
    "colab": {
     "base_uri": "https://localhost:8080/"
    },
    "id": "-nQHGPP8OrY0",
    "outputId": "3c53637b-a14d-4eca-cd6b-ac5e36ed8049"
   },
   "outputs": [
    {
     "data": {
      "text/plain": [
       "0.40545849006734413"
      ]
     },
     "execution_count": 5,
     "metadata": {
      "tags": []
     },
     "output_type": "execute_result"
    }
   ],
   "source": [
    "from scipy.optimize import minimize_scalar\n",
    "res = minimize_scalar(lambda x: ExpectedLoss(x,loss_fn,fx), method='brent')\n",
    "res.x"
   ]
  },
  {
   "cell_type": "markdown",
   "metadata": {
    "id": "3WV8xIvzOrY-"
   },
   "source": [
    "## (1e) Bigger Losses\n",
    "$$L_l(d,x)=\\begin{cases} \n",
    "\t20(d-x) & x \\leq d \\\\\n",
    "\t200+20(d-x) & x> d \\\\\t\t\n",
    "\t\\end{cases}$$.\n",
    "    \n",
    "Consider instead the loss function above, which contains a large jump at $x=d$.  Use your `ExpectedLoss` and/or `optimize` routines to find the Bayes' decision for the bus-waiting problem in this case, where a large amount of utility is lost as soon as $x>d$ (or we miss the bus).  Does your result here seem intuitive, given the Bayes' decision in parts (1c/1d)?"
   ]
  },
  {
   "cell_type": "code",
   "execution_count": 6,
   "metadata": {
    "colab": {
     "base_uri": "https://localhost:8080/"
    },
    "id": "wvZJFK7nOrZA",
    "outputId": "77c6ee1d-a116-4883-eacb-d07a7a7f85fc"
   },
   "outputs": [
    {
     "data": {
      "text/plain": [
       "2.3031347714552965"
      ]
     },
     "execution_count": 6,
     "metadata": {
      "tags": []
     },
     "output_type": "execute_result"
    }
   ],
   "source": [
    "def big_loss_fn(x, d):\n",
    "    if x<=d:\n",
    "      return 20*(d-x)\n",
    "    else:\n",
    "      return 200 + 20*(d-x)\n",
    "res_big = minimize_scalar(lambda x: ExpectedLoss(x,big_loss_fn,fx), method='brent')\n",
    "res_big.x"
   ]
  },
  {
   "cell_type": "markdown",
   "metadata": {
    "id": "TkbBB241OrZG"
   },
   "source": [
    "\n",
    "## Problem 2:  Bayesian network to model heart disease\n",
    "\n",
    "The following Bayesian network is based loosely on a study that examined heart disease risk factors in 167 elderly individuals in South Carolina.  Note that this figure uses Y and N to represent Yes and No, whereas in class we used the equivalent T and F to represent True and False Boolean values.\n",
    "\n",
    "<img src=\"http://www.cs.colorado.edu/~tonyewong/home/resources/hw05_bayesnet_heartdisease.png\" style=\"width: 650px;\"/>"
   ]
  },
  {
   "cell_type": "markdown",
   "metadata": {
    "id": "RHp0mGXzOrZI"
   },
   "source": [
    "<a id='p1a'></a>\n",
    "\n",
    "### (2a) \n",
    "\n",
    "Create a `BayesNet` object to model this.  Below are the codes for the (conditional) probability `P` function and `BayesNode` class as well, that we used in class on Monday (9 March) to represent the variable nodes and calculate probabilities. You can code this however you want, subject to the following constraints:\n",
    "1. the nodes are represented using the `BayesNode` class and can work with the `P` function for probabilities,\n",
    "1. your `BayesNet` structure keeps track of which nodes are in the Bayes net, as well as\n",
    "1. which nodes are the parents/children of which other nodes.\n",
    "\n",
    "Some *suggested* skeleton codes for a class structure are given. You are free and encouraged to use the code from our in-class notebooks on Bayes Nets and Markov Models. The point of this exercise is to make sure you understand the example from class. The suggestions for methods to implement are in view of the fact that we will need to calculate some probabilities, which is going to require us to `find_node`s and `find_values` that nodes can take on."
   ]
  },
  {
   "cell_type": "code",
   "execution_count": 7,
   "metadata": {
    "id": "Wta2Xb1JOrZK"
   },
   "outputs": [],
   "source": [
    "## For the sake of brevity...\n",
    "T, F = True, False\n",
    "\n",
    "## From class:\n",
    "def P(var, value, evidence={}):\n",
    "    '''The probability distribution for P(var | evidence), \n",
    "    when all parent variables are known (in evidence)'''\n",
    "    if len(var.parents)==1:\n",
    "        # only one parent\n",
    "        row = evidence[var.parents[0]]\n",
    "    else:\n",
    "        # multiple parents\n",
    "        row = tuple(evidence[parent] for parent in var.parents)\n",
    "    return var.cpt[row] if value else 1-var.cpt[row]\n",
    "\n",
    "## Also from class:\n",
    "class BayesNode:\n",
    "    \n",
    "    def __init__(self, name, parents, values, cpt):\n",
    "        if isinstance(parents, str):\n",
    "            parents = parents.split()\n",
    "            \n",
    "        if len(parents)==0:\n",
    "            # if no parents, empty dict key for cpt\n",
    "            cpt = {(): cpt}\n",
    "        elif isinstance(cpt, dict):\n",
    "            # if there is only one parent, only one tuple argument\n",
    "            if cpt and isinstance(list(cpt.keys())[0], bool):\n",
    "                cpt = {(v): p for v, p in cpt.items()}\n",
    "\n",
    "        self.variable = name\n",
    "        self.parents = parents\n",
    "        self.cpt = cpt\n",
    "        self.values = values\n",
    "        self.children = []\n",
    "        \n",
    "    def __repr__(self):\n",
    "        return repr((self.variable, ' '.join(self.parents)))    \n",
    "\n",
    "    \n",
    "##===============================================##\n",
    "## Suggested codes for a BayesNet class ##\n",
    "##===============================================##\n",
    "\n",
    "class BayesNet:\n",
    "    '''Bayesian network containing only boolean-variable nodes.'''\n",
    "\n",
    "    def __init__(self, nodes):\n",
    "        '''Initialize the Bayes net by adding each of the nodes,\n",
    "        which should be a list BayesNode class objects ordered\n",
    "        from parents to children (`top` to `bottom`, from causes\n",
    "        to effects)'''\n",
    "        \n",
    "        # your code goes here...\n",
    "        self.network = []\n",
    "        self.variables = []\n",
    "        \n",
    "        for node in nodes:\n",
    "            self.add(node)\n",
    "                \n",
    "    def add(self, node):\n",
    "        '''Add a new BayesNode to the BayesNet. The parents should all\n",
    "        already be in the net, and the variable itself should not be'''\n",
    "        assert node.variable not in self.variables\n",
    "        #assert all((parent in self.variables) for parent in node.parents)\n",
    "        \n",
    "        self.network.append(node)\n",
    "        self.variables.append(node.variable)\n",
    "        \n",
    "            \n",
    "    def find_node(self, var):\n",
    "        '''Find and return the BayesNode in the net with name `var`'''\n",
    "        \n",
    "        # your code goes here...\n",
    "        for node in self.network:\n",
    "            if node.variable == var:\n",
    "                return node\n",
    "        print('Variable not in Network.')\n",
    "        return None\n",
    "        \n",
    "\n",
    "        \n",
    "    def find_values(self, var):\n",
    "        '''Return the set of possible values for variable `var`'''\n",
    "        \n",
    "        # your code goes here...\n",
    "        node = self.find_node(var)\n",
    "        return node.values\n",
    "        \n",
    "\n",
    "    \n",
    "    def __repr__(self):\n",
    "        return 'BayesNet({})'.format(self.network) # changed from self.nodes"
   ]
  },
  {
   "cell_type": "code",
   "execution_count": 8,
   "metadata": {
    "id": "dmdmonLKOrZP"
   },
   "outputs": [],
   "source": [
    "# Create a Bayes net with those nodes and connections\n",
    "#First is Mod. Exercise, ME.\n",
    "ME = BayesNode('ME', '', [T,F], 0.5)\n",
    "#Then is Smoking, SM.\n",
    "SM = BayesNode('SM', '', [T,F], 0.2)\n",
    "#Then is Atherosclrosis, AT.\n",
    "AT = BayesNode('AT', '', [T,F], 0.53)\n",
    "#Then Family History, FH.\n",
    "FH = BayesNode('FH', '', [T,F], 0.15)\n",
    "#High Blood Pressure, HBP\n",
    "HBP = BayesNode('HBP', ['SM', 'ME'], [T,F], {(T, T): 0.6, (T, F): 0.72, (F, T): 0.33, (F, F): 0.51})\n",
    "#Heart Disease, HD\n",
    "HD = BayesNode('HD', ['AT', 'HBP', 'FH'], [T,F], {(T, T, T): 0.92, (T, T, F): 0.91, (T, F, T): 0.81, (T, F, F): 0.77, (F, T, T): 0.75, (F, T, F): 0.69, (F, F, T): 0.38, (F, F, F): 0.23})\n",
    "#Rapid Heartbeats, RAPHB\n",
    "RAPHB = BayesNode('RAPHB', 'HD', [T,F], {T: 0.99, F: 0.3})\n",
    "#Angina Pectoris, ANGPT\n",
    "ANGPT = BayesNode('ANGPT', 'HD', [T,F], {T: 0.85, F: 0.4})\n",
    "\n",
    "#Creating the BayesNet of bnHeart with these values.\n",
    "bnModel = BayesNet([SM, ME, HBP, AT, FH, HD, ANGPT, RAPHB])"
   ]
  },
  {
   "cell_type": "code",
   "execution_count": 9,
   "metadata": {
    "id": "yGu8ZRhYOrZU"
   },
   "outputs": [],
   "source": [
    "class Tests_Problem2(unittest.TestCase):\n",
    "    def setUp(self):\n",
    "        self.p1 = BayesNode('p1', '', [T,F], 0.3)\n",
    "        self.p2 = BayesNode('p2', '', [T,F], 0.6)\n",
    "        self.c  = BayesNode('c', ['p1', 'p2'], [T,F], {(T,T):0.1, (T,F):0.2, (F,T):0.3, (F,F):0.4})\n",
    "    def test_onenode(self):\n",
    "        self.assertEqual(P(self.p1, T), 0.3)\n",
    "    def test_twonode(self):\n",
    "        self.assertEqual(P(self.c, F, {'p1':T, 'p2':F}), 0.8)"
   ]
  },
  {
   "cell_type": "code",
   "execution_count": 10,
   "metadata": {
    "colab": {
     "base_uri": "https://localhost:8080/"
    },
    "id": "LnzquhvZOrZZ",
    "outputId": "5dff02d0-947a-48b7-f07a-a019df6e210d"
   },
   "outputs": [
    {
     "name": "stderr",
     "output_type": "stream",
     "text": [
      "..\n",
      "----------------------------------------------------------------------\n",
      "Ran 2 tests in 0.002s\n",
      "\n",
      "OK\n"
     ]
    },
    {
     "data": {
      "text/plain": [
       "<unittest.runner.TextTestResult run=2 errors=0 failures=0>"
      ]
     },
     "execution_count": 10,
     "metadata": {
      "tags": []
     },
     "output_type": "execute_result"
    }
   ],
   "source": [
    "tests_to_run = unittest.TestSuite()\n",
    "tests_to_run.addTest(Tests_Problem2(\"test_onenode\"))\n",
    "tests_to_run.addTest(Tests_Problem2(\"test_twonode\"))\n",
    "unittest.TextTestRunner().run(tests_to_run)"
   ]
  },
  {
   "cell_type": "markdown",
   "metadata": {
    "id": "qo9ecthVOrZe"
   },
   "source": [
    "\n",
    "### (2b)\n",
    "\n",
    "Craft a function `get_prob(X, e, bn)` to return the **normalized** probability distribution of variable `X` in Bayes net `bn`, given the evidence `e`.  That is, return $P(X \\mid e)$. The arguments are:\n",
    "* `X` is some representation of the variable you are querying the probability distribution of. Either a string (the variable name from the `BayesNode` or a `BayesNode` object itself are good options.\n",
    "* `e` is some representation of the evidence your probability is conditioned on. When given an empty argument (or `None`) for `e`, `get_prob` should return the marginal distribution $P(X)$.\n",
    "* `bn` is your `BayesNet` object.\n",
    "\n",
    "You may do this using the `enumeration` algorithm from class (pseudocode is in the book), or by brute force (i.e., use a few `for` loops). Either way, you should be using your `BayesNet` object to keep track of all the nodes and relationships between nodes so your `get_prob` function knows these things.\n",
    "\n",
    "Suggest implementation is below, where we use the `PDF_discrete` class and its associated functions as we did in the Bayes Nets in class notebook."
   ]
  },
  {
   "cell_type": "code",
   "execution_count": 11,
   "metadata": {
    "id": "-hgr8YbDOrZf"
   },
   "outputs": [],
   "source": [
    "#solution\n",
    "import math\n",
    "class PDF_discrete:\n",
    "    '''Define a discrete probability distribution function.'''\n",
    "\n",
    "    def __init__(self, varname='?', freqs=None):\n",
    "        '''Create a dictionary of values - frequency pairs,\n",
    "        then normalize the distribution to sum to 1.'''\n",
    "        self.prob = {}\n",
    "        self.varname = varname\n",
    "        self.values = []\n",
    "        if freqs:\n",
    "            for (v, p) in freqs.items():\n",
    "                self[v] = p\n",
    "        self.normalize()\n",
    "\n",
    "    def __getitem__(self, value):\n",
    "        '''Given a value, return P[value]'''\n",
    "        try:\n",
    "            return self.prob[value]\n",
    "        except KeyError:\n",
    "            return 0\n",
    "\n",
    "    def __setitem__(self, value, p):\n",
    "        '''Set P[value] = p, input argument if '''\n",
    "        if value not in self.values:\n",
    "            self.values.append(value)\n",
    "        self.prob[value] = p\n",
    "\n",
    "    def normalize(self):\n",
    "        '''Normalize the probability distribution and return it.\n",
    "        If the sum of PDF values is 0, then return a 0'''\n",
    "        total = sum(self.prob.values())\n",
    "        if not math.isclose(total, 1.0):\n",
    "            for value in self.prob:\n",
    "                self.prob[value] /= total\n",
    "        return self\n",
    "    \n",
    "def extend(s, var, val):\n",
    "    \"\"\"Copy the substitution s and extend it by setting var to val; return copy.\"\"\"\n",
    "    s2 = s.copy()\n",
    "    s2[var] = val\n",
    "    return s2\n",
    "\n",
    "def enumerate_all(variables, e, bn):\n",
    "    '''Return the sum of those entries in P(variables | e{others})\n",
    "    consistent with e, where P is the joint distribution represented\n",
    "    by bn, and e{others} means e restricted to bn's other variables\n",
    "    (the ones other than variables). Parents must precede children in variables.'''\n",
    "    if not variables:\n",
    "        return 1.0\n",
    "    Y, rest = variables[0], variables[1:]\n",
    "    Ynode = bn.find_node(Y)\n",
    "    if Y in e:\n",
    "        # Y in evidence, so we know its value and just multiply\n",
    "        return P(Ynode, e[Y], e) * enumerate_all(rest, e, bn)\n",
    "    else:\n",
    "        # Y not in evidence so we have to sum (Law of Total Prob.)    \n",
    "        return sum(P(Ynode, y, e) * enumerate_all(rest, extend(e, Y, y), bn)\n",
    "                   for y in bn.find_values(Y))\n",
    "\n",
    "#Writing my Get Probability Function here.\n",
    "def get_prob(X, e, bn):\n",
    "    #We need to return the conditional probability distribution from our bn (Bayes Net)\n",
    "    #of variable X, with the evidence (e).\n",
    "    #Instantiate object of class PDF_Discrete.\n",
    "    Disc = PDF_discrete(X)\n",
    "    #For i in Bayes Net Values of X\n",
    "    for i in bn.find_values(X):\n",
    "        #Use enumerate function here to find Distribution\n",
    "        Disc[i] = enumerate_all(bn.variables, extend(e, X, i), bn)\n",
    "    #Return normalized\n",
    "    return Disc.normalize()"
   ]
  },
  {
   "cell_type": "markdown",
   "metadata": {
    "id": "z7BWCIbiOrZj"
   },
   "source": [
    "### (2c)\n",
    "Use your `get_prob` function to calculate the following probabilities. Print them to the screen and compare to the original Bayes net figure given to make sure the output passes these \"unit tests\".\n",
    "\n",
    "1. The marginal probability of `Family History` is $P(FH=T)=0.15$\n",
    "2. The probability of *not* experiencing `Angina Pectoris`, given `Heart Disease` is observed, is $P(Ang=F \\mid HD=T)=1-0.85=0.15$\n",
    "3. The probability of `High Blood Pressure`, given a person does `Smoke and/or use Alcohol` but does not get `Moderate Exercise`, is $P(HBP=T \\mid Sm=T, ME=F)=0.72$\n",
    "4. The probability of an arbitrary individual having Heart Disease,  P(HD=T)P(HD=T)\n",
    "5. The probability that an individual does not have Heart Disease, given that Rapid Heartbeat was observed,  P(HD=F∣Rapid=T)P(HD=F∣Rapid=T)\n",
    "6. The probability that an individual is a `Smoker/Alcohol User` if they have `Heart Disease`, $P(Sm=T \\mid HD=T)$\n",
    "7. How would you expect the probability in 6. to change if you also know the individual has `High Blood Pressure`?  Verify your hypothesis by calculating the relevant probability."
   ]
  },
  {
   "cell_type": "code",
   "execution_count": 12,
   "metadata": {
    "colab": {
     "base_uri": "https://localhost:8080/"
    },
    "id": "VBdECu7EOrZk",
    "outputId": "ed0ffc94-3233-4c41-847e-4a589bf4c857"
   },
   "outputs": [
    {
     "name": "stdout",
     "output_type": "stream",
     "text": [
      "1. P(FH) = {True: 0.15, False: 0.85}\n",
      "-------------------\n",
      "2. P(ANGPT = F| HD = T) = 0.15000000000000002\n",
      "-------------------\n",
      "3. P(HBP = T | SM = T, ME = F) = 0.7199999999999999\n",
      "-------------------\n",
      "4. P(HD) = 0.6617765600000001\n",
      "So Probability of it happening is approximately 0.66\n",
      "-------------------\n",
      "5. P(HD = F | RAPHB = T) = {True: 0.865895362727999, False: 0.13410463727200098}\n",
      "So Probability of it happening is approximately 0.13\n",
      "-------------------\n",
      "6. P(SM | HD = T) = {True: 0.2163440784303391, False: 0.7836559215696609}\n",
      "So Probability of it happening is approximately 0.22\n",
      "-------------------\n",
      "7. P(SM | HD = T, HBP = T) = {True: 0.28205128205128205, False: 0.717948717948718}\n",
      "So Probability of it happening is approximately 0.28\n",
      "-------------------\n"
     ]
    }
   ],
   "source": [
    "ME = BayesNode('ME', '', [T,F], 0.50)\n",
    "Sm = BayesNode('Sm', '', [T,F], 0.20)\n",
    "HBP = BayesNode('HBP', ['Sm','ME'], [T,F], {(T,T):0.60, (T,F):0.72, (F,T):0.33, (F,F):0.51})\n",
    "\n",
    "Ath = BayesNode('Ath', '', [T,F], 0.53)\n",
    "FH = BayesNode('FH', '',[T,F], 0.15)\n",
    "\n",
    "HD = BayesNode('HD', ['Ath', 'HBP', 'FH'], [T,F], {(T,T,T):0.92, (T,T,F):0.91, (T,F,T):0.81, (T,F,F):0.77, (F,T,T):0.75, (F,T,F):0.69, (F,F,T):0.38, (F,F,F):0.23}) \n",
    "\n",
    "Ang = BayesNode('Ang', ['HD'], [T,F],{(T): 0.85, (F): 0.40})\n",
    "Rapid = BayesNode('Rapid', ['HD'], [T,F],{(T): 0.99, (F): 0.30})\n",
    "\n",
    "bn = BayesNet([Sm, ME, HBP, Ath, FH, HD, Ang, Rapid])\n",
    "\n",
    "FH = get_prob(X = 'FH', e = {}, bn = bnModel)\n",
    "print('1. P(FH) = {}'.format(FH.prob))\n",
    "print('-------------------')\n",
    "APHD = get_prob(X = 'ANGPT', e = {'HD' : T}, bn = bnModel)\n",
    "print('2. P(ANGPT = F| HD = T) = {}'.format(APHD.prob[0]))\n",
    "print('-------------------')\n",
    "HBP = get_prob(X = 'HBP', e={'SM' : T, 'ME' : F}, bn = bnModel)\n",
    "print('3. P(HBP = T | SM = T, ME = F) = {}'.format(HBP.prob[1]))\n",
    "print('-------------------')\n",
    "HD = get_prob(X = 'HD', e = {}, bn = bnModel)\n",
    "print('4. P(HD) = {}'.format(HD.prob[1]))\n",
    "print('So Probability of it happening is approximately {}'.format(round(HD.prob[1], 2)))\n",
    "print('-------------------')\n",
    "HDRT = get_prob(X = 'HD', e = {'RAPHB' : T}, bn = bnModel)\n",
    "print('5. P(HD = F | RAPHB = T) = {}'.format(HDRT.prob))\n",
    "print('So Probability of it happening is approximately {}'.format(round(HDRT.prob[0], 2)))\n",
    "print('-------------------')\n",
    "HDSMA = get_prob(X = 'SM', e = {'HD' : T}, bn = bnModel)\n",
    "print('6. P(SM | HD = T) = {}'.format(HDSMA.prob))\n",
    "print('So Probability of it happening is approximately {}'.format(round(HDSMA.prob[1], 2)))\n",
    "print('-------------------')\n",
    "HBPSMA = get_prob(X= 'SM', e = {'HD' : T, 'HBP' : T}, bn = bnModel)\n",
    "print('7. P(SM | HD = T, HBP = T) = {}'.format(HBPSMA.prob))\n",
    "print('So Probability of it happening is approximately {}'.format(round(HBPSMA.prob[1], 2)))\n",
    "print('-------------------')\n",
    "# print('1. Prob(FH = T) = ',get_prob(FH, None, bn)[T])\n",
    "# print('2. Prob(Ang=F | HD = T)=', get_prob(Ang, {'HD': T}, bn)[F])\n",
    "# print('3. Prob(HBP=T | Sm=T, ME=F) = ', get_prob(HBP, {'Sm': T, 'ME': F}, bn)[T])\n",
    "# print('4. P(HD)=',get_prob(HD, None, bn)[T])\n",
    "# print('5. P(HD=F | Rapid=T)=',get_prob(HD, {'Rapid': T}, bn)[F])\n",
    "# print('6. P(Sm | HD=T)=',get_prob(Sm, {'HD': T}, bn)[T])\n",
    "# print('7. P(Sm | HBP=T, HD=T)=',get_prob(Sm, {'HBP': T, 'HD': T}, bn)[T])"
   ]
  },
  {
   "cell_type": "markdown",
   "metadata": {
    "id": "KJ36jjIHOrZq"
   },
   "source": [
    "### (2d)\n",
    "Rather than exact calculations, we can also *simulate* on a Bayesian Network.  Simulate 10000 hypothetical elderly individuals from South Carolina on the given network.  Using logicals, compute the probabilities in numbers (6.) and (7.) of part (2c) and verify that they are approximately equivalent.\n",
    "\n",
    "No API is required here, but your final result should print the empirical (simulated) probabilities next to the exact theoretical results for these two outcomes from (2c)."
   ]
  },
  {
   "cell_type": "code",
   "execution_count": 13,
   "metadata": {
    "id": "0fcESH7JOrZr"
   },
   "outputs": [],
   "source": [
    "#Recommended simulation structure:\n",
    "#Set up same BayesNodes or Conditional Probability Tables as in (2a)\n",
    "\n",
    "#For 10000 samples...\n",
    "\n",
    "    #Randomly sample variables from top-to-bottom on the network, where children probabilities depend on parent values\n",
    "\n",
    "    #Save them all in one large Data frame or array"
   ]
  },
  {
   "cell_type": "code",
   "execution_count": 14,
   "metadata": {
    "id": "VOXt9RjJ2H9z"
   },
   "outputs": [],
   "source": [
    "# CPT- Conditional probability table generation\n",
    "import pandas as pd\n",
    "import random \n",
    "\n",
    "data = {\n",
    "  'sm': [],\n",
    "\t'me': [],\n",
    "\t'hbp': [],\n",
    "\t'ath': [],\n",
    "  'fh': [],\n",
    "  'hd': [],\n",
    "  'ap': [],\n",
    "  'rp': []\n",
    "    }\n",
    "df_health = pd.DataFrame(data)    \n",
    "n = 10000\n",
    "for i in range(10000):\n",
    "  ch = \"TF\"\n",
    "  sm = random.choices(ch, weights=(0.2*n, 0.8*n), k=1)[0]\n",
    "  me = random.choices(ch, weights=(0.5*n, 0.5*n), k=1)[0]\n",
    "  \n",
    "  if (sm=='T' and me=='T'):prob= 0.6\n",
    "  elif(sm=='T' and me=='F'):prob=0.72\n",
    "  elif(sm=='F' and me=='T'):prob=0.33\n",
    "  else:prob=0.51\n",
    "  hbp = random.choices(ch, weights=(prob*n, (1-prob)*n), k=1)[0]\n",
    "\n",
    "  prob=0.53\n",
    "  ath = random.choices(ch, weights=(prob*n, (1-prob)*n), k=1)[0]\n",
    "\n",
    "  prob=0.15\n",
    "  fh = random.choices(ch, weights=(prob*n, (1-prob)*n), k=1)[0]\n",
    "\n",
    "  if(ath=='T' and hbp=='T' and fh=='T'):prob=0.92\n",
    "  elif(ath=='T' and hbp=='T' and fh=='F'):prob=0.91\n",
    "  elif(ath=='T' and hbp=='F' and fh=='T'):prob=0.81\n",
    "  elif(ath=='T' and hbp=='F' and fh=='F'):prob=0.77\n",
    "  elif(ath=='F' and hbp=='T' and fh=='T'):prob=0.75\n",
    "  elif(ath=='F' and hbp=='T' and fh=='F'):prob=0.69\n",
    "  elif(ath=='F' and hbp=='F' and fh=='T'):prob=0.38\n",
    "  elif(ath=='F' and hbp=='F' and fh=='F'):prob=0.23\n",
    "  hd  = random.choices(ch, weights=(prob*n, (1-prob)*n), k=1)[0]\n",
    "\n",
    "  if (hd=='T'):prob= 0.85\n",
    "  else:prob=0.40\n",
    "  ap = random.choices(ch, weights=(prob*n, (1-prob)*n), k=1)[0]\n",
    "\n",
    "  if (hd=='T'):prob= 0.99\n",
    "  else:prob=0.30\n",
    "  rp = random.choices(ch, weights=(prob*n, (1-prob)*n), k=1)[0]\n",
    "  # print(rp)\n",
    "\n",
    "  new_row = {\n",
    "  'sm': sm,\n",
    "\t'me': me,\n",
    "\t'hbp': hbp,\n",
    "\t'ath': ath,\n",
    "  'fh': fh,\n",
    "  'hd': hd,\n",
    "  'ap': ap,\n",
    "  'rp': rp      \n",
    "  }\n",
    "\n",
    "  df_health = df_health.append(new_row, ignore_index= True)\n"
   ]
  },
  {
   "cell_type": "code",
   "execution_count": 15,
   "metadata": {
    "colab": {
     "base_uri": "https://localhost:8080/",
     "height": 197
    },
    "id": "IC1NSKfE8cpD",
    "outputId": "935300b6-930d-4ea1-db14-e9b24a37d23a"
   },
   "outputs": [
    {
     "data": {
      "text/html": [
       "<div>\n",
       "<style scoped>\n",
       "    .dataframe tbody tr th:only-of-type {\n",
       "        vertical-align: middle;\n",
       "    }\n",
       "\n",
       "    .dataframe tbody tr th {\n",
       "        vertical-align: top;\n",
       "    }\n",
       "\n",
       "    .dataframe thead th {\n",
       "        text-align: right;\n",
       "    }\n",
       "</style>\n",
       "<table border=\"1\" class=\"dataframe\">\n",
       "  <thead>\n",
       "    <tr style=\"text-align: right;\">\n",
       "      <th></th>\n",
       "      <th>sm</th>\n",
       "      <th>me</th>\n",
       "      <th>hbp</th>\n",
       "      <th>ath</th>\n",
       "      <th>fh</th>\n",
       "      <th>hd</th>\n",
       "      <th>ap</th>\n",
       "      <th>rp</th>\n",
       "    </tr>\n",
       "  </thead>\n",
       "  <tbody>\n",
       "    <tr>\n",
       "      <th>0</th>\n",
       "      <td>F</td>\n",
       "      <td>F</td>\n",
       "      <td>T</td>\n",
       "      <td>F</td>\n",
       "      <td>F</td>\n",
       "      <td>T</td>\n",
       "      <td>T</td>\n",
       "      <td>T</td>\n",
       "    </tr>\n",
       "    <tr>\n",
       "      <th>1</th>\n",
       "      <td>F</td>\n",
       "      <td>T</td>\n",
       "      <td>T</td>\n",
       "      <td>F</td>\n",
       "      <td>F</td>\n",
       "      <td>T</td>\n",
       "      <td>T</td>\n",
       "      <td>T</td>\n",
       "    </tr>\n",
       "    <tr>\n",
       "      <th>2</th>\n",
       "      <td>F</td>\n",
       "      <td>T</td>\n",
       "      <td>T</td>\n",
       "      <td>F</td>\n",
       "      <td>F</td>\n",
       "      <td>T</td>\n",
       "      <td>T</td>\n",
       "      <td>T</td>\n",
       "    </tr>\n",
       "    <tr>\n",
       "      <th>3</th>\n",
       "      <td>F</td>\n",
       "      <td>T</td>\n",
       "      <td>F</td>\n",
       "      <td>T</td>\n",
       "      <td>F</td>\n",
       "      <td>T</td>\n",
       "      <td>T</td>\n",
       "      <td>T</td>\n",
       "    </tr>\n",
       "    <tr>\n",
       "      <th>4</th>\n",
       "      <td>T</td>\n",
       "      <td>F</td>\n",
       "      <td>F</td>\n",
       "      <td>F</td>\n",
       "      <td>F</td>\n",
       "      <td>F</td>\n",
       "      <td>T</td>\n",
       "      <td>F</td>\n",
       "    </tr>\n",
       "  </tbody>\n",
       "</table>\n",
       "</div>"
      ],
      "text/plain": [
       "  sm me hbp ath fh hd ap rp\n",
       "0  F  F   T   F  F  T  T  T\n",
       "1  F  T   T   F  F  T  T  T\n",
       "2  F  T   T   F  F  T  T  T\n",
       "3  F  T   F   T  F  T  T  T\n",
       "4  T  F   F   F  F  F  T  F"
      ]
     },
     "execution_count": 15,
     "metadata": {
      "tags": []
     },
     "output_type": "execute_result"
    }
   ],
   "source": [
    "df_health.head()"
   ]
  },
  {
   "cell_type": "code",
   "execution_count": 16,
   "metadata": {
    "colab": {
     "base_uri": "https://localhost:8080/"
    },
    "id": "8Bp61m3t9TeI",
    "outputId": "4e8f33d1-c0f0-48bd-f832-f3e071b55649"
   },
   "outputs": [
    {
     "name": "stdout",
     "output_type": "stream",
     "text": [
      "Theoretical probability count for sm\n",
      "F     0.8\n",
      "T     0.2\n",
      "Actual/Simulated probability count for sm\n"
     ]
    },
    {
     "data": {
      "text/plain": [
       "F    0.7942\n",
       "T    0.2058\n",
       "Name: sm, dtype: float64"
      ]
     },
     "execution_count": 16,
     "metadata": {
      "tags": []
     },
     "output_type": "execute_result"
    }
   ],
   "source": [
    "print('Theoretical probability count for sm')\n",
    "print('F     0.8')\n",
    "print('T     0.2')\n",
    "print('Actual/Simulated probability count for sm')\n",
    "df_health['sm'].value_counts(normalize=True)"
   ]
  },
  {
   "cell_type": "code",
   "execution_count": 19,
   "metadata": {
    "colab": {
     "base_uri": "https://localhost:8080/"
    },
    "id": "rDFD8BgFLS8u",
    "outputId": "6c2254fa-4d19-42b0-fd0d-449090e70521"
   },
   "outputs": [
    {
     "name": "stdout",
     "output_type": "stream",
     "text": [
      "Theoretical probability count by Numerical Method\n",
      "6. P(SM | HD = T) = {True: 0.2163440784303391, False: 0.7836559215696609}\n",
      "So Probability of it happening is approximately 0.22\n",
      "-------------------\n",
      "Actual probability count by dummy table observation\n"
     ]
    },
    {
     "data": {
      "text/plain": [
       "0.1473"
      ]
     },
     "execution_count": 19,
     "metadata": {
      "tags": []
     },
     "output_type": "execute_result"
    }
   ],
   "source": [
    "print('Theoretical probability count by Numerical Method')\n",
    "HDSMA = get_prob(X = 'SM', e = {'HD' : T}, bn = bnModel)\n",
    "print('6. P(SM | HD = T) = {}'.format(HDSMA.prob))\n",
    "print('So Probability of it happening is approximately {}'.format(round(HDSMA.prob[1], 2)))\n",
    "print('-------------------')\n",
    "print('Actual probability count by dummy table observation')\n",
    "res=df_health.loc[(df_health['sm'] == 'T') & (df_health['hd'] == 'T')]\n",
    "len(res)/10000\n"
   ]
  },
  {
   "cell_type": "code",
   "execution_count": 20,
   "metadata": {
    "colab": {
     "base_uri": "https://localhost:8080/"
    },
    "id": "gOBB53_ePMzd",
    "outputId": "7f634868-4d4f-4878-c0b2-ba6d77e2977d"
   },
   "outputs": [
    {
     "name": "stdout",
     "output_type": "stream",
     "text": [
      "Theoretical probability count by Numerical Method\n",
      "7. P(SM | HD = T, HBP = T) = {True: 0.28205128205128205, False: 0.717948717948718}\n",
      "So Probability of it happening is approximately 0.28\n",
      "-------------------\n",
      "Actual probability count by dummy table observation\n"
     ]
    },
    {
     "data": {
      "text/plain": [
       "0.109"
      ]
     },
     "execution_count": 20,
     "metadata": {
      "tags": []
     },
     "output_type": "execute_result"
    }
   ],
   "source": [
    "print('Theoretical probability count by Numerical Method')\n",
    "HBPSMA = get_prob(X= 'SM', e = {'HD' : T, 'HBP' : T}, bn = bnModel)\n",
    "print('7. P(SM | HD = T, HBP = T) = {}'.format(HBPSMA.prob))\n",
    "print('So Probability of it happening is approximately {}'.format(round(HBPSMA.prob[1], 2)))\n",
    "print('-------------------')\n",
    "print('Actual probability count by dummy table observation')\n",
    "res=df_health.loc[(df_health['sm'] == 'T') & (df_health['hd'] == 'T') & (df_health['hbp'] == 'T')]\n",
    "len(res)/10000"
   ]
  },
  {
   "cell_type": "code",
   "execution_count": 18,
   "metadata": {
    "id": "nmF-z_F8TnA4"
   },
   "outputs": [],
   "source": []
  }
 ],
 "metadata": {
  "colab": {
   "collapsed_sections": [],
   "name": "Lastname_Firstname_3202F20_HW3.ipynb",
   "provenance": [],
   "toc_visible": true
  },
  "kernelspec": {
   "display_name": "Python 3",
   "language": "python",
   "name": "python3"
  },
  "language_info": {
   "codemirror_mode": {
    "name": "ipython",
    "version": 3
   },
   "file_extension": ".py",
   "mimetype": "text/x-python",
   "name": "python",
   "nbconvert_exporter": "python",
   "pygments_lexer": "ipython3",
   "version": "3.8.5"
  }
 },
 "nbformat": 4,
 "nbformat_minor": 1
}
