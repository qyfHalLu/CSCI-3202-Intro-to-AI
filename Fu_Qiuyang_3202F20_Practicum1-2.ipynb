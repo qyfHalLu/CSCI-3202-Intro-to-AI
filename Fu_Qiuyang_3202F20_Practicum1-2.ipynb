{
 "cells": [
  {
   "cell_type": "markdown",
   "metadata": {
    "id": "5JBS8Elyrg5c"
   },
   "source": [
    "<a id='top'></a>\n",
    "\n",
    "# CSCI 3202: Intro to AI - Fall 2020 Practicum 1\n",
    "***\n",
    "\n",
    "This practicum is due on Canvas by **11:59 PM on Monday November 2**. Your solutions to theoretical questions should be done in Markdown/MathJax directly below the associated question.  Your solutions to computational questions should include any specified Python code and results as well as written commentary on your conclusions.  \n",
    "\n",
    "**Here are the rules:** \n",
    "\n",
    "1. All work, code and analysis, must be your own. \n",
    "1. You may use your course notes, posted lecture slides, textbooks, in-class notebooks, and homework solutions as resources.  You may also search online for answers to general knowledge questions like the form of a probability distributions or how to perform a particular operation in Python/Pandas. \n",
    "1. This is meant to be like a coding portion of your midterm exam. So, the instructional team will be much less helpful than we typically are with homework. For example, we will not check answers, help debug your code, and so on.  We will happily discuss ideas on your paper, however.\n",
    "1. If something is left open-ended, it is because we want to see how you approach the kinds of problems you will encounter in the wild, where it will not always be clear what sort of tests/methods should be applied. Feel free to ask clarifying questions though.\n",
    "2. You may **NOT** post to message boards or other online resources asking for help.\n",
    "3. You may **NOT** copy-paste solutions *from anywhere*.\n",
    "4. You may **NOT** collaborate with classmates or anyone else.\n",
    "5. In short, **your work must be your own**. It really is that simple.\n",
    "\n",
    "Violation of the above rules will result in an immediate academic sanction (*at the very least*, you will receive a 0 on this practicum or an F in the course, depending on severity), and a trip to the Honor Code Council.\n",
    "\n",
    "**By submitting this assignment, you agree to abide by the rules given above.**\n",
    "\n",
    "***\n",
    "\n",
    "**Name**:  Qiuyang Fu\n",
    "\n",
    "***\n",
    "\n",
    "\n",
    "**NOTES**: \n",
    "\n",
    "- You may not use late days on the practicums nor can you drop your practicum grades. \n",
    "- If you have a question for us, post it as a **PRIVATE** message on Piazza.  If we decide that the question is appropriate for the entire class, then we will add it to a Practicum clarifications thread. \n",
    "- Do **NOT** load or use any Python packages that are not available in Anaconda 3.6. The practicum is designed to be completed using only the packages in the first given code cell.\n",
    "- Some problems with code may be autograded.  If we provide a function API **do not** change it.  If we do not provide a function API then you're free to structure your code however you like. \n",
    "- Submit only this Jupyter notebook to Canvas.  Do not compress it using tar, rar, zip, etc. \n",
    "- This should go without saying, but... For any question that asks you to calculate something, you **must show all work to receive credit**. Sparse or nonexistent work will receive sparse or nonexistent credit.\n",
    "\n",
    "---\n",
    "**Shortcuts:**  [Problem 1](#p1) | [Short Paper](#p2) | [Bottom](#bot)\n",
    "\n",
    "---"
   ]
  },
  {
   "cell_type": "code",
   "execution_count": 1,
   "metadata": {
    "id": "d282h8-rrg5e"
   },
   "outputs": [],
   "source": [
    "import pandas as pd\n",
    "import matplotlib.pyplot as plt\n",
    "import numpy as np\n",
    "%matplotlib inline"
   ]
  },
  {
   "cell_type": "markdown",
   "metadata": {
    "id": "334wYadnrg5l"
   },
   "source": [
    "<br>\n",
    "\n",
    "---\n",
    "[Back to top](#top)\n",
    "<a id='p1'></a>\n",
    "\n",
    "## [50 points] Part 1: The Traveling Salesman"
   ]
  },
  {
   "cell_type": "markdown",
   "metadata": {
    "id": "ZrTg7itOrg5m"
   },
   "source": [
    "Run the following cell to generate the data set, which is saved in the `df` dataframe by default.  You may change it to a dictionary/matrix/whatever typing you see fit.  The x and y axis are in miles, and you may assume that any pairwise distances computed are Euclidean distance"
   ]
  },
  {
   "cell_type": "code",
   "execution_count": 2,
   "metadata": {
    "colab": {
     "base_uri": "https://localhost:8080/",
     "height": 282
    },
    "id": "L5X8UoLHrg5n",
    "outputId": "8152e81f-1c2c-4ebd-cc89-081ce0f7a386"
   },
   "outputs": [
    {
     "data": {
      "text/plain": [
       "<matplotlib.collections.PathCollection at 0x7fe8f95fc080>"
      ]
     },
     "execution_count": 2,
     "metadata": {
      "tags": []
     },
     "output_type": "execute_result"
    },
    {
     "data": {
      "image/png": "[encoded data removed]",
      "text/plain": [
       "<Figure size 432x288 with 1 Axes>"
      ]
     },
     "metadata": {
      "needs_background": "light",
      "tags": []
     },
     "output_type": "display_data"
    }
   ],
   "source": [
    "np.random.seed(3202)\n",
    "\n",
    "d=np.random.multivariate_normal([14,0], [[1,0],[0,1]],20)\n",
    "d2=np.random.multivariate_normal([0,20], [[1,.8],[.8,1]],12)\n",
    "d3=np.random.multivariate_normal([10,10], [[1,1],[1,1]],12)\n",
    "d4=[[14,20], [0,0], [7,10]]\n",
    "d5={'x': np.random.random(size=10)*(20)-3, 'y': np.random.random(size=10)*30-5}\n",
    "df=pd.DataFrame(data=d, columns=['x','y'])\n",
    "df = df.append(pd.DataFrame(data=d2, columns=['x','y']))\n",
    "df = df.append(pd.DataFrame(data=d3, columns=['x','y']))\n",
    "df = df.append(pd.DataFrame(data=d4, columns=['x','y']))\n",
    "df = df.append(pd.DataFrame(data=d5, columns=['x','y']))\n",
    "plt.scatter(df['x'],df['y'])"
   ]
  },
  {
   "cell_type": "markdown",
   "metadata": {
    "id": "fgn0pSO0rg5v"
   },
   "source": [
    "### Part A) Warmup: Rehash on A*\n",
    "\n",
    "Turn the set of points into a graph by adding edges.  For each point, add two edges that connect that point two the nearest two other points.  Note that some points might end up with more than 3 edges, but many edges won't have to be added because nearest-other-points will often be symmetric.  After doing this, perform the $A^*$ algorithm to find the shortest path from the point at (0,0) to the point at (14,20).  Print out the path followed (as a list of coordinate pairs) and the total Euclidean distance.\n",
    "\n",
    "Note: you probably want:\n",
    "    - i) a quick function or dictionary or matrix that stores or computes the distances between two input points\n",
    "    - ii) a function that computes the total distance of a path: given a list of nodes/vertices, uses the i) function to compute it's total edge cost"
   ]
  },
  {
   "cell_type": "code",
   "execution_count": 3,
   "metadata": {
    "colab": {
     "base_uri": "https://localhost:8080/",
     "height": 89
    },
    "id": "qYKGaTwrrg5x",
    "outputId": "7a2ff02a-48a8-4428-fdc9-5760ee2c28bc"
   },
   "outputs": [
    {
     "name": "stdout",
     "output_type": "stream",
     "text": [
      "The path is: \n",
      "48 : [8.816789737248161, 10.69371097672006] ->  33 : [9.592412507130083, 9.592412507130083] ->  35 : [9.573996163218304, 9.573996163218304] ->  34 : [9.536150716444128, 9.536150716444128] ->  43 : [9.532434833676634, 9.532434833676634] ->  36 : [9.240213724439549, 9.240213724439549] ->  41 : [9.044187581291435, 9.044187581291435] ->  42 : [8.92780763709286, 8.927807637092862] ->  37 : [10.089271640004739, 10.089271640004739] ->  40 : [10.365579121103146, 10.365579121103146] ->  39 : [10.519497157642629, 10.519497157642629] ->  32 : [10.621876523413203, 10.621876523413203] ->  38 : [10.818885266013622, 10.818885266013622] ->  47 : [11.437427961056555, 10.541948409946741] ->  49 : [8.044174668117513, 12.949819387468512] ->  46 : [7.0, 10.0] ->  50 : [8.155008121002396, 3.4024185234070607] ->  6 : [11.458258660109315, 0.9314620492290537] ->  8 : [12.28070813957457, 0.7757160957876456] ->  0 : [12.66805621018173, 1.0070643301216815] ->  10 : [13.564272567082183, 0.9707853477462078] ->  16 : [14.25971814485172, 0.952237251064479] ->  5 : [14.76391002394876, 0.4468528202786707] ->  11 : [15.23598213435892, 0.5784326478457489] ->  15 : [15.521450663213889, -0.08808654990656417] ->  4 : [15.305368132277678, -0.19604915962973152] ->  1 : [15.389105709771638, -0.5022729254037326] ->  17 : [15.675474079385749, -0.3523119523781842] ->  7 : [15.185710606742925, -0.8433892655106671] ->  12 : [14.990877934270314, -1.0508327071754062] ->  13 : [15.18851782653033, -1.4184375578100779] ->  19 : [14.21058860505249, -0.5697106594494766] ->  2 : [14.206290213110986, -0.15033958454336474] ->  3 : [13.726623632306016, 0.11116039965768713] ->  9 : [12.968539692768307, 0.0379620322806945] ->  18 : [13.412436526002187, -1.4465493637565634] ->  14 : [14.450524897112919, 2.3842749875911604] ->  55 : [0.5591133984116063, -0.7092949776162429] ->  45 : [0.0, 0.0] ->  53 : [0.275792866245677, -4.774893368088327] ->  52 : [1.0468160368011974, 17.650155447138786] ->  20 : [-0.18583812169658717, 19.328680266646614] ->  31 : [-0.49964345978138514, 19.188868658562495] ->  22 : [-0.17874750715088422, 19.775577408023068] ->  21 : [0.12547249447310752, 20.094573462136015] ->  29 : [0.2642182015052627, 20.033324445709404] ->  26 : [0.34237482373659495, 20.005490265786396] ->  30 : [-0.3326842354101051, 20.389978395358476] ->  23 : [-1.1402489462144383, 19.481514785271916] ->  24 : [-1.717893476877719, 19.39753842315336] ->  25 : [0.5143024492904715, 21.50027514839235] ->  28 : [1.6693675386844142, 22.1423279410435] ->  27 : [1.879542571484297, 22.29458591203462] ->  51 : [5.07033761067798, 22.318324828373303] ->  54 : [7.635895005315472, 24.701023330981783] ->  44 : [14.0, 20.0] ->  56 : [14.51049149695059, 19.963939387316998] ->  \n",
      "The total edge cost given by A star is: 118.72562146452542\n"
     ]
    }
   ],
   "source": [
    "class A_star:\n",
    "  \n",
    "    def __init__(self, coords):\n",
    "        \"\"\"\n",
    "        adds nodes, edges based on heuristic = Euclidean distance\n",
    "        create edge dictionary- with A star distances with the help of fitness function  \n",
    "        \"\"\"\n",
    "        self.coords = coords\n",
    "        self.N = len(coords)      \n",
    "\n",
    "        self.nodes = [i for i in range(self.N)]\n",
    "\n",
    "        self.best_solution = None\n",
    "        self.best_fitness = float(\"Inf\")\n",
    "        self.fitness_list = []\n",
    "\n",
    "    #create path function?\n",
    "    def heuristic_dist(self, node_0, node_1):\n",
    "        \"\"\"\n",
    "        Euclidean distance- which is usewd as heuristic dist in A star - between two nodes.\n",
    "        \"\"\"\n",
    "        coord_0, coord_1 = self.coords[node_0], self.coords[node_1]\n",
    "        return ((coord_0[0] - coord_1[0]) ** 2 + (coord_0[1] - coord_1[1]) ** 2)**0.5\n",
    "\n",
    "    #do A*\n",
    "    def Astar_initial_solution(self):\n",
    "        \"\"\"\n",
    "        Greedy algorithm to get an initial solution (closest-neighbour).\n",
    "        \"\"\"\n",
    "        cur_node = np.random.choice(self.nodes)  # start from a random node\n",
    "        solution = [cur_node]\n",
    "\n",
    "        free_nodes = set(self.nodes)\n",
    "        free_nodes.remove(cur_node)\n",
    "        while free_nodes:\n",
    "            next_node = min(free_nodes, key=lambda x: self.heuristic_dist(cur_node, x))  # nearest neighbour\n",
    "            free_nodes.remove(next_node)\n",
    "            solution.append(next_node)\n",
    "            cur_node = next_node\n",
    "\n",
    "        cur_fit = self.fitness(solution)\n",
    "        if cur_fit < self.best_fitness:  # If best found so far, update best fitness\n",
    "            self.best_fitness = cur_fit\n",
    "            self.best_solution = solution\n",
    "        self.fitness_list.append(cur_fit)\n",
    "        return solution, cur_fit\n",
    "\n",
    "    def fitness(self, solution):\n",
    "        \"\"\"\n",
    "        Total distance of the current solution path.\n",
    "        \"\"\"\n",
    "        cur_fit = 0\n",
    "        for i in range(self.N):\n",
    "            cur_fit += self.heuristic_dist(solution[i % self.N], solution[(i + 1) % self.N])\n",
    "        return cur_fit\n",
    "\n",
    "# testing A star \n",
    "coords = df.values.tolist()    \n",
    "a_star_obj = A_star(coords)\n",
    "sol, cur_fit_obj = a_star_obj.Astar_initial_solution()\n",
    "\n",
    "# printing path\n",
    "print(\"The path is: \")\n",
    "for node_i in sol:\n",
    "  print(str(node_i) + \" : \"  + str(coords[node_i]) + \" -> \", end = \" \")\n",
    "print()\n",
    "\n",
    "# Evaluating Cost\n",
    "print(\"The total edge cost given by A star is: \" + str(cur_fit_obj))"
   ]
  },
  {
   "cell_type": "markdown",
   "metadata": {
    "id": "gwrA4L-frg53"
   },
   "source": [
    "### Part B) Annealing: the Salesman\n",
    "\n",
    "In this exercise, we're going to be using simulated annealing to find solutions to the traveling salesman problem.Your two helper functions in part A should help!\n",
    "\n",
    "In this problem, we model a salesman that tries to \"reach\" each city on the graph to sell their wares.  As an algorithm, the goal of the traveling salesman problem is to find the path that:\n",
    "    - has the lowest total edge length (or path cost)\n",
    "    - hits each and every vertex/node exactly once\n",
    "    - the salesman may travel directly between *any* two cities (you will need more edges than you constructed in part A!)\n",
    "\n",
    "We will use simulated annealing.  This means you need to come up with both a temperature function and a probability of acceptance function.  There is no guidance on these functions beyond:\n",
    "    - Given a path or solution to the problem, the temperature function proposes a new solution.\n",
    "    The new solutions should become more and more like the input solutions over time/as you run more iterations\n",
    "    - Given two solutions, the annealing algorithm will always accept one with a shorter path cost, and will have some probability that scales with temperature/iterations and becomes less and less likely to accept a new solution with longer path cost.\n",
    "    - All proposed solutions should pass through every node.\n",
    "    - There are many methods to \"adjust\" old solutions to propose new ones.  You should consider moving a single node to another location in the list, moving entire substrings to other locations, reversing the order of substrings, etc.\n",
    "    \n",
    "For any temperature/probability function pair, make sure you run annealing for sufficiently different initial conditions to generate a small sample of \"final solution lengths\" and \"number of iterations.\"\n",
    "\n",
    "Typeset and describe in exact detail how you chose and implemented temperature and probability functions in the markdown cell below.\n"
   ]
  },
  {
   "cell_type": "markdown",
   "metadata": {
    "id": "L4E71rqTrg54"
   },
   "source": [
    "# Implementation Details:\n",
    "Inspired by the phenomena of cooling changing the properties of melted solids, a similar, distance hampering & thus the calculated, rule based randomization of the node selection process deciding the final path is obtained by following:\n",
    "- ## Background on A* :\n",
    "  - As seen in A star implementation above, the Euclidean cost function can be taken as heuristic function for the algorithm to find the shortest path, this helped while deciding/ selecting the next node based on heuristic + cost_so_far (here, estimated via fitness funtion/method to keep it aligned & reusable with the annealing process).\n",
    "# Simulated Annealing:\n",
    "- The approach used i.e. Simulated annealing chooses a random move from the neighbourhood unlike hill climbing which chooses the best move from all those available – at least when using steepest descent (or ascent).\n",
    "In case the move is better than its current position then simulated annealing will always take it. If the move is worse (i.e. lesser quality) then it will be accepted based on some probability. \n",
    "-  Steps folowed are:\n",
    "  - Function SIMULATED-ANNEALING(Problem, Schedule) returns a solution state\n",
    "  - Inputs\t:\tProblem, a problem, Schedule, a mapping from time to temperature (fitness function)\n",
    "  - Local Variables\t:\tCurrent, a node\n",
    "\t\tNext, a node\n",
    "\t\tT, a “temperature” controlling the probability of downward steps\n",
    "\n",
    "  - Current = MAKE-NODE(INITIAL-STATE[Problem]) : __init__ <br>\n",
    "  - For t = 1 to N  (No. of nodes/points)  do\n",
    "  - T = Schedule[t]\n",
    "  - If T = 0 then return Current\n",
    "  - Next = a randomly selected successor of Current\n",
    "  - PE = VALUE[Next] – VALUE[Current]\n",
    "  - if PE > 0 then Current = Next\n",
    "  - else Current = Next only with probability exp obtained from p_accept Function \n",
    "\t"
   ]
  },
  {
   "cell_type": "markdown",
   "metadata": {
    "id": "3UT-XSULrg55"
   },
   "source": [
    "### Part C) Annealing Implementation"
   ]
  },
  {
   "cell_type": "code",
   "execution_count": 4,
   "metadata": {
    "colab": {
     "base_uri": "https://localhost:8080/",
     "height": 69
    },
    "id": "Tw6Kt_POrg56",
    "outputId": "9308fbdc-72ed-483e-8448-7bc574ab1185"
   },
   "outputs": [
    {
     "name": "stdout",
     "output_type": "stream",
     "text": [
      "Starting annealing.\n",
      "Best fitness obtained:  109.79625283436872\n",
      "Improvement over greedy heuristic:  11.90%\n"
     ]
    }
   ],
   "source": [
    "## Code cell: implement annealing!  Include any trial runs for different temperature/prob functions. \n",
    "class SimAnneal(object):\n",
    "    def __init__(self, coords, T=-1, alpha=-1, stopping_T=-1, stopping_iter=-1):\n",
    "        self.coords = coords\n",
    "        self.N = len(coords)\n",
    "        self.T = (self.N)**0.5 if T == -1 else T\n",
    "        self.T_save = self.T  # save inital T to reset if batch annealing is used\n",
    "        self.alpha = 0.995 if alpha == -1 else alpha\n",
    "        self.stopping_temperature = 1e-8 if stopping_T == -1 else stopping_T\n",
    "        self.stopping_iter = 100000 if stopping_iter == -1 else stopping_iter\n",
    "        self.iteration = 1\n",
    "\n",
    "        self.nodes = [i for i in range(self.N)]\n",
    "\n",
    "        self.best_solution = None\n",
    "        self.best_fitness = float(\"Inf\")\n",
    "        self.fitness_list = []\n",
    "\n",
    "    def initial_solution(self):\n",
    "        \"\"\"\n",
    "        Greedy algorithm - just like A star - to get an initial solution based on closest-neighbour.\n",
    "        \"\"\"\n",
    "        cur_node = np.random.choice(self.nodes)  # start from a random node\n",
    "        solution = [cur_node]\n",
    "\n",
    "        free_nodes = set(self.nodes)\n",
    "        free_nodes.remove(cur_node)\n",
    "        while free_nodes:\n",
    "            next_node = min(free_nodes, key=lambda x: self.heuristic_dist(cur_node, x))  # nearest neighbour\n",
    "            free_nodes.remove(next_node)\n",
    "            solution.append(next_node)\n",
    "            cur_node = next_node\n",
    "\n",
    "        cur_fit = self.fitness(solution)\n",
    "        if cur_fit < self.best_fitness:  # If best found so far, update best fitness\n",
    "            self.best_fitness = cur_fit\n",
    "            self.best_solution = solution\n",
    "        self.fitness_list.append(cur_fit)\n",
    "        return solution, cur_fit\n",
    "\n",
    "    def heuristic_dist(self, node_0, node_1):\n",
    "        \"\"\"\n",
    "        Euclidean distance between two nodes.\n",
    "        \"\"\"\n",
    "        coord_0, coord_1 = self.coords[node_0], self.coords[node_1]\n",
    "        return ((coord_0[0] - coord_1[0]) ** 2 + (coord_0[1] - coord_1[1]) ** 2)**0.5\n",
    "\n",
    "    def fitness(self, solution):\n",
    "        \"\"\"\n",
    "        Total distance of the current solution path.\n",
    "        \"\"\"\n",
    "        cur_fit = 0\n",
    "        for i in range(self.N):\n",
    "            cur_fit += self.heuristic_dist(solution[i % self.N], solution[(i + 1) % self.N])\n",
    "        return cur_fit\n",
    "\n",
    "    def p_accept(self, candidate_fitness):\n",
    "        \"\"\"\n",
    "        Probability of accepting if the candidate is worse than current.\n",
    "        Depends on the current temperature and difference between candidate and current.\n",
    "        \"\"\"\n",
    "        return 2.71828**(-abs(candidate_fitness - self.cur_fitness) / self.T)\n",
    "        # return math.exp(-abs(candidate_fitness - self.cur_fitness) / self.T) # not used as other libraries not allowed\n",
    "\n",
    "    def accept(self, candidate):\n",
    "        \"\"\"\n",
    "        Accept with probability 1 if candidate is better than current.\n",
    "        Accept with probabilty p_accept(..) if candidate is worse.\n",
    "        \"\"\"\n",
    "        candidate_fitness = self.fitness(candidate)\n",
    "        if candidate_fitness < self.cur_fitness:\n",
    "            self.cur_fitness, self.cur_solution = candidate_fitness, candidate\n",
    "            if candidate_fitness < self.best_fitness:\n",
    "                self.best_fitness, self.best_solution = candidate_fitness, candidate\n",
    "        else:\n",
    "            if np.random.random() < self.p_accept(candidate_fitness):\n",
    "                self.cur_fitness, self.cur_solution = candidate_fitness, candidate\n",
    "\n",
    "    def anneal(self):\n",
    "        \"\"\"\n",
    "        Execute simulated annealing algorithm.\n",
    "        \"\"\"\n",
    "        # Initialize with the greedy solution.\n",
    "        self.cur_solution, self.cur_fitness = self.initial_solution()\n",
    "\n",
    "        print(\"Starting annealing.\")\n",
    "        while self.T >= self.stopping_temperature and self.iteration < self.stopping_iter:\n",
    "            candidate = list(self.cur_solution)\n",
    "            l = np.random.randint(2, self.N - 1)\n",
    "            i = np.random.randint(0, self.N - l)\n",
    "            candidate[i : (i + l)] = reversed(candidate[i : (i + l)])\n",
    "            self.accept(candidate)\n",
    "            self.T *= self.alpha\n",
    "            self.iteration += 1\n",
    "\n",
    "            self.fitness_list.append(self.cur_fitness)\n",
    "\n",
    "        print(\"Best fitness obtained: \", self.best_fitness)\n",
    "        improvement = 100 * (self.fitness_list[0] - self.best_fitness) / (self.fitness_list[0])\n",
    "        print(f\"Improvement over greedy heuristic: {improvement : .2f}%\")\n",
    "\n",
    "    def batch_anneal(self, times=10):\n",
    "        \"\"\"\n",
    "        Execute simulated annealing algorithm `times` times, with random initial solutions.\n",
    "        \"\"\"\n",
    "        for i in range(1, times + 1):\n",
    "            print(f\"Iteration {i}/{times} -------------------------------\")\n",
    "            self.T = self.T_save\n",
    "            self.iteration = 1\n",
    "            self.cur_solution, self.cur_fitness = self.initial_solution()\n",
    "            self.anneal()\n",
    "\n",
    "    def visualize_routes(self):\n",
    "        \"\"\"\n",
    "        Visualize the TSP route with matplotlib.\n",
    "        \"\"\"\n",
    "        visualize_path([self.best_solution], self.coords)\n",
    "\n",
    "    def plot_learning(self):\n",
    "        \"\"\"\n",
    "        Plot the fitness through iterations.\n",
    "        \"\"\"\n",
    "        plt.plot([i for i in range(len(self.fitness_list))], self.fitness_list)\n",
    "        plt.ylabel(\"Fitness\")\n",
    "        plt.xlabel(\"Iteration\")\n",
    "        plt.show()\n",
    "\n",
    "\n",
    "\n",
    "## Demo Run\n",
    "\n",
    "sa = SimAnneal(coords, stopping_iter=5000)\n",
    "sa.anneal()"
   ]
  },
  {
   "cell_type": "markdown",
   "metadata": {
    "id": "SAraXDgerg5_"
   },
   "source": [
    "### Part D) Conclusions\n",
    "Create a visualization - box plots, line graphs, histograms, etc. of how your temperature/probability functions performed. Which one did best?  Plot the path corresponding to the shortest edge length that you found, and state its path length.  How many iterations were necessary *on average* for the temperature/probability pair that gave you your shortest edge length?"
   ]
  },
  {
   "cell_type": "code",
   "execution_count": 5,
   "metadata": {
    "colab": {
     "base_uri": "https://localhost:8080/",
     "height": 526
    },
    "id": "rRS27WTFrg6A",
    "outputId": "0e695d24-0bdb-4898-c49d-dc799664b726"
   },
   "outputs": [
    {
     "data": {
      "image/png": "[encoded data removed]",
      "text/plain": [
       "<Figure size 432x288 with 1 Axes>"
      ]
     },
     "metadata": {
      "needs_background": "light",
      "tags": []
     },
     "output_type": "display_data"
    },
    {
     "data": {
      "image/png": "[encoded data removed]",
      "text/plain": [
       "<Figure size 432x288 with 1 Axes>"
      ]
     },
     "metadata": {
      "needs_background": "light",
      "tags": []
     },
     "output_type": "display_data"
    }
   ],
   "source": [
    "#visualization of success times/paths of different implementations, plot of shortest path found\n",
    "\n",
    "def visualize_path(paths, points, num_iters=1):\n",
    "\n",
    "    \"\"\"\n",
    "    path: List of lists with the different orders in which the nodes are visited\n",
    "    points: coordinates for the different nodes\n",
    "    num_iters: number of paths that are in the path list\n",
    "    \"\"\"\n",
    "\n",
    "    # Unpack the primary TSP path and transform it into a list of ordered\n",
    "    # coordinates\n",
    "\n",
    "    x = []; y = []\n",
    "    for i in paths[0]:\n",
    "        x.append(points[i][0])\n",
    "        y.append(points[i][1])\n",
    "\n",
    "    plt.plot(x, y, 'co')\n",
    "\n",
    "    # Set a scale for the arrow heads (there should be a reasonable default for this, WTF?)\n",
    "    a_scale = float(max(x))/float(100)\n",
    "\n",
    "    # Draw the older paths, if provided\n",
    "    if num_iters > 1:\n",
    "\n",
    "        for i in range(1, num_iters):\n",
    "\n",
    "            # Transform the old paths into a list of coordinates\n",
    "            xi = []; yi = [];\n",
    "            for j in paths[i]:\n",
    "                xi.append(points[j][0])\n",
    "                yi.append(points[j][1])\n",
    "\n",
    "            plt.arrow(xi[-1], yi[-1], (xi[0] - xi[-1]), (yi[0] - yi[-1]),\n",
    "                    head_width = a_scale, color = 'r',\n",
    "                    length_includes_head = True, ls = 'dashed',\n",
    "                    width = 0.001/float(num_iters))\n",
    "            for i in range(0, len(x) - 1):\n",
    "                plt.arrow(xi[i], yi[i], (xi[i+1] - xi[i]), (yi[i+1] - yi[i]),\n",
    "                        head_width = a_scale, color = 'r', length_includes_head = True,\n",
    "                        ls = 'dashed', width = 0.001/float(num_iters))\n",
    "\n",
    "    # Draw the primary path for the TSP problem\n",
    "    plt.arrow(x[-1], y[-1], (x[0] - x[-1]), (y[0] - y[-1]), head_width = a_scale,\n",
    "            color ='g', length_includes_head=True)\n",
    "    for i in range(0,len(x)-1):\n",
    "        plt.arrow(x[i], y[i], (x[i+1] - x[i]), (y[i+1] - y[i]), head_width = a_scale,\n",
    "                color = 'g', length_includes_head = True)\n",
    "\n",
    "    #Set axis too slitghtly larger than the set of x and y\n",
    "    plt.xlim(min(x)*1.1, max(x)*1.1)\n",
    "    plt.ylim(min(y)*1.1, max(y)*1.1)\n",
    "    plt.show()\n",
    "\n",
    "## tsp plot\n",
    "sa.visualize_routes()\n",
    "sa.plot_learning()"
   ]
  },
  {
   "cell_type": "markdown",
   "metadata": {
    "id": "Ein65cqbrg6G"
   },
   "source": [
    "[Paste link to Mark down here](https://)\n",
    "- On demo-runs of SA i.e. Simulated -annealing, we observe that as the number of iterations increases the estimated cost becomes more accurate & faster. (Could be observed by changing stopping_iter parameter as shown below)\n",
    "\n",
    "- ## Demo Run\n",
    "sa = SimAnneal(coords, stopping_iter=3000) # change number of iterations here\n",
    "sa.anneal()\n",
    "\n",
    "- ## tsp plot\n",
    "sa.visualize_routes()\n",
    "sa.plot_learning()"
   ]
  },
  {
   "cell_type": "markdown",
   "metadata": {
    "id": "RM3etcTzrg6H"
   },
   "source": [
    "### Part E) Short Bonus (5 pts)\n",
    "\n",
    "Suppose there existed a river that was very difficult to cross running along the line $x=10$ on the data set.  Adjust your edge costs so that any edge that cross this river has an added incurred cost equivalent to traveling an *additional* 10 miles.  Use your winning algorithm in Parts C/D to solve ths problem again, and as before plot the shortest path found and list its cost (distance plus any river crossings)."
   ]
  },
  {
   "cell_type": "code",
   "execution_count": 6,
   "metadata": {
    "id": "3Icz40ejrg6I"
   },
   "outputs": [],
   "source": [
    "# We can easily adapt to the changing needs as one given above : like a river stream appears at x = 10, which causes cost to be increased by additional 10 miles\n",
    "def heuristic_dist(self, node_0, node_1):\n",
    "        \"\"\"\n",
    "        Returns Euclidean distance between two nodes.\n",
    "        \"\"\"\n",
    "        coord_0, coord_1 = self.coords[node_0], self.coords[node_1]\n",
    "        dist = ((coord_0[0] - coord_1[0]) ** 2 + (coord_0[1] - coord_1[1]) ** 2)**0.5 \n",
    "        return dist+10 if (coord_0[0] > 10 or coord_1[0] > 10) else dist"
   ]
  },
  {
   "cell_type": "markdown",
   "metadata": {
    "id": "aaJRZMnDrg6N"
   },
   "source": [
    "<br>\n",
    "\n",
    "---\n",
    "[Back to top](#top)\n",
    "<a id='p2'></a>\n",
    "\n",
    "## [50 points] Part 2: A Short Paper on Ethics and AI"
   ]
  },
  {
   "cell_type": "markdown",
   "metadata": {
    "id": "UVwHGCo3rg6O"
   },
   "source": [
    "Your task is to find a current event, project, or issue that relates to AI, and evaluate the ethics involved. You\n",
    "must consider multiple points of view, not just your own as well as the implications that come from these points of\n",
    "view.\n",
    "\n",
    "We mentioned various ethical scenarios in class that can help you to consider your analysis. Remember in much of AI,\n",
    "context is king. This can be the case in ethics also.  You may want to think about e.g. describing the types of competing loss/utility evaluations that might lead to different AI actions in the issue you choose.  You should also read about the 5 pillars of ethical standards here: https://www.scu.edu/ethics/ethics-resources/ethical-decision-making/a-framework-for-ethical-decision-making/\n",
    "\n",
    "Consider the effects and impacts of AI on everyday life. Some examples to consider:\n",
    "- AI and Justice\n",
    "- AI and Medicine\n",
    "- AI and Civil Rights\n",
    "- AI and Warfare\n",
    "- Defining AI\n",
    "- AI Regulation\n",
    "- AI and Human Jobs\n",
    "- AI and Privacy\n",
    "- Fair AI\n",
    "- AI and Misinformation\n",
    "\n",
    "You are welcome to discuss another topic providing there is enough AI content to make it relevant."
   ]
  },
  {
   "cell_type": "markdown",
   "metadata": {
    "id": "yf997Chdrg6P"
   },
   "source": [
    "Paper in this cell *here*"
   ]
  },
  {
   "cell_type": "markdown",
   "metadata": {
    "id": "TqEhwI8-rg6Q"
   },
   "source": [
    "Citations/bibliography *here*.  Alternatively, you may submit the paper to canvas as a .pdf."
   ]
  },
  {
   "cell_type": "markdown",
   "metadata": {
    "id": "bN2dnmiOrg6R"
   },
   "source": [
    "## Technical Details\n",
    "\n",
    "Your paper should be approximately 1000 - 1500 words.\n",
    "\n",
    "You will then need to collect sources surrounding this scenario. These can be newspaper articles, blog posts, book chapters etc. It is always good to have more than one source, now more than ever. You are free to choose your topic around what interests you, but I recommend that you read the grading rubric\n",
    "below before making a final choice. Make sure you choose a topic on which you can write a paper to earn maximum\n",
    "points.\n",
    "\n",
    "I expect this assignment to use references appropriately and all references should be in the ACM Format (see:https://www.acm.org/publications/authors/reference-formatting).\n",
    "\n",
    "For your consideration: preliminary rubric\n",
    "\n",
    "- (a) [10 pts] Summarize your scenario. What is the problem that is being solved and what is the method used to solve it. This should include references to where you read about it. There maybe multiple articles on the same topic saying different things, you may wish to discuss both.\n",
    "- (b) [6 pts] Describe the AI involved. Why was AI the solution? Is there a human solution? If so, why was the AI solution used.\n",
    "- (c) [14 pts] Discuss the Ethical considerations of this scenario. If there is more than one side to the argument you should consider them all. (For almost all studies there will be multiple viewpoints). I recommend using the moral frameworks discussed in class to break down the scenario, either through analysing Moral Intensity of the five aspects of the Markkula Framework.\n",
    "- (d) [6 pts] Discuss the Implications of this case study. How do the actions taken impact the future? What ethical debate can you forsee in the future?\n",
    "- (e) [6 pts] Discuss how this case study relates to Ethics in AI as a whole. Is this case study representative? atypical? Somewhere in the middle? Why?\n",
    "- (f) [4 pts] Conclude your paper, there should be a take home message. If you wish to include a personal opinion, this is the section in which to do that\n",
    "There will also be points for:\n",
    "- (g) [2 pt] Presentation, Spelling and Grammar\n",
    "- (h) [2 pt] Appropriate Referencing"
   ]
  },
  {
   "cell_type": "markdown",
   "metadata": {
    "id": "ruNR4Qz3rg6S"
   },
   "source": [
    "<br>\n",
    "\n",
    "---\n",
    "[Back to top](#top)\n",
    "<a id='bot'></a>"
   ]
  }
 ],
 "metadata": {
  "colab": {
   "collapsed_sections": [
    "aaJRZMnDrg6N",
    "bN2dnmiOrg6R"
   ],
   "name": "A_star_Annealing.ipynb",
   "provenance": []
  },
  "kernelspec": {
   "display_name": "Python 3",
   "language": "python",
   "name": "python3"
  },
  "language_info": {
   "codemirror_mode": {
    "name": "ipython",
    "version": 3
   },
   "file_extension": ".py",
   "mimetype": "text/x-python",
   "name": "python",
   "nbconvert_exporter": "python",
   "pygments_lexer": "ipython3",
   "version": "3.8.3"
  }
 },
 "nbformat": 4,
 "nbformat_minor": 1
}
